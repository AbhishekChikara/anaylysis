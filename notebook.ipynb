{
  "cells": [
    {
      "metadata": {
        "_cell_guid": "abe96359-d7f3-47f1-b9db-9a10b6e9ddcb",
        "_uuid": "5bcb5a286d3afbbdfab5e9c3b85d4c2a294727c5"
      },
      "cell_type": "markdown",
      "source": "# Making predictions over amazon recommendation dataset\n\n## Predictions\nThe purpose of this analysis is to make up a prediction model where we will be able to predict whether a recommendation is positive or negative. In this analysis, we will not focus on the Score, but only the positive/negative sentiment of the recommendation. \n\nTo do so, we will work on Amazon's recommendation dataset, we will build a Term-doc incidence matrix using term frequency and inverse document frequency ponderation. When the data is ready, we will load it into predicitve algorithms, mainly naïve Bayesian and regression.\n\nIn the end, we hope to find a \"best\" model for predicting the recommendation's sentiment.\n\n## Loading the data\nIn order to load the data, we will use the SQLITE dataset where we will only fetch the Score and the recommendation summary. \n\nAs we only want to get the global sentiment of the recommendations (positive or negative), we will purposefully ignore all Scores equal to 3. If the score id above 3, then the recommendation wil be set to \"postive\". Otherwise, it will be set to \"negative\". \n\nThe data will be split into an training set and a test set with a test set ratio of 0.2"
    },
    {
      "metadata": {
        "_cell_guid": "5b2fdc3c-edc8-4d30-b713-1f20d0c8e845",
        "_uuid": "833e0616887cac0ed5da65ca3d4882263b639847",
        "trusted": false,
        "collapsed": true
      },
      "cell_type": "code",
      "source": "%matplotlib inline\n\nimport sqlite3\nimport pandas as pd\nimport numpy as np\nimport nltk\nimport string\nimport matplotlib.pyplot as plt\nimport numpy as np\n\nfrom sklearn.feature_extraction.text import TfidfTransformer\nfrom sklearn.feature_extraction.text import CountVectorizer\nfrom sklearn.cross_validation import train_test_split\nfrom sklearn.metrics import confusion_matrix\nfrom sklearn import metrics\nfrom sklearn.metrics import roc_curve, auc\nfrom nltk.stem.porter import PorterStemmer\n\ncon = sqlite3.connect('../input/database.sqlite')\n\nmessages = pd.read_sql_query(\"\"\"\nSELECT Score, Summary\nFROM Reviews\nWHERE Score != 3\n\"\"\", con)\n\ndef partition(x):\n    if x < 3:\n        return 'negative'\n    return 'positive'\n\nScore = messages['Score']\nScore = Score.map(partition)\nSummary = messages['Summary']\nX_train, X_test, y_train, y_test = train_test_split(Summary, Score, test_size=0.2, random_state=42)",
      "execution_count": null,
      "outputs": []
    },
    {
      "metadata": {
        "_cell_guid": "e367b66d-34e6-4fde-9750-85885cf5229f",
        "_uuid": "3e92e4464372bf1585dbd9177e2c2b97c44922b9"
      },
      "cell_type": "markdown",
      "source": "## Brief Exploratory analysis\n\nAfter loading the data, here is what it looks like :"
    },
    {
      "metadata": {
        "_cell_guid": "9cc6e8c8-d79f-46b8-80c4-e189f1ca41b7",
        "_uuid": "72bbf76b29047ea0dce4e31b4bc70efab93406e0",
        "trusted": false,
        "collapsed": true
      },
      "cell_type": "code",
      "source": "print(messages.head(20))",
      "execution_count": null,
      "outputs": []
    },
    {
      "metadata": {
        "_cell_guid": "3cefc99b-1c22-40bb-95b0-2fab18665f22",
        "_uuid": "75b18affc3ed542b5734af48e526696fd819e713"
      },
      "cell_type": "markdown",
      "source": "After splitting our dataset into X_train, X_test, Y_train, Y_test, we have no more integer score, but an appreciation of it : positive or negative :"
    },
    {
      "metadata": {
        "_cell_guid": "c8152633-0cbc-4478-8659-d224bdeaa675",
        "_uuid": "e6190e5031d1c0fb954140a552ee4b56b2679b39",
        "trusted": false,
        "collapsed": true
      },
      "cell_type": "code",
      "source": "tmp = messages\ntmp['Score'] = tmp['Score'].map(partition)\nprint(tmp.head(20))",
      "execution_count": null,
      "outputs": []
    },
    {
      "metadata": {
        "_cell_guid": "b18c9b71-cd88-40bd-b532-5a70075d815c",
        "_uuid": "d8d01ecb2a48c8ee9562cffc28954818d7b5440e"
      },
      "cell_type": "markdown",
      "source": "## Cleaning the data\n\nTo format our data and build the Term-doc incidence matrix, many operations will be performed on the data :\n- Stemming\n- Stop words removal\n- Lowering\n- Tokenization\n- Pruning (numbers and punctuation)"
    },
    {
      "metadata": {
        "_cell_guid": "983d060a-915e-4a21-a058-4311a1cd172f",
        "_uuid": "5576d109a155fba08baac65bf2d29753e08897f2",
        "trusted": false,
        "collapsed": true
      },
      "cell_type": "code",
      "source": "stemmer = PorterStemmer()\nfrom nltk.corpus import stopwords\n\ndef stem_tokens(tokens, stemmer):\n    stemmed = []\n    for item in tokens:\n        stemmed.append(stemmer.stem(item))\n    return stemmed\n\ndef tokenize(text):\n    tokens = nltk.word_tokenize(text)\n    #tokens = [word for word in tokens if word not in stopwords.words('english')]\n    stems = stem_tokens(tokens, stemmer)\n    return ' '.join(stems)\n\nintab = string.punctuation\nouttab = \"                                \"\ntrantab = str.maketrans(intab, outtab)\n\n#--- Training set\n\ncorpus = []\nfor text in X_train:\n    text = text.lower()\n    text = text.translate(trantab)\n    text=tokenize(text)\n    corpus.append(text)\n        \ncount_vect = CountVectorizer()\nX_train_counts = count_vect.fit_transform(corpus)        \n        \ntfidf_transformer = TfidfTransformer()\nX_train_tfidf = tfidf_transformer.fit_transform(X_train_counts)\n\n#--- Test set\n\ntest_set = []\nfor text in X_test:\n    text = text.lower()\n    text = text.translate(trantab)\n    text=tokenize(text)\n    test_set.append(text)\n\nX_new_counts = count_vect.transform(test_set)\nX_test_tfidf = tfidf_transformer.transform(X_new_counts)\n\nfrom pandas import *\ndf = DataFrame({'Before': X_train, 'After': corpus})\nprint(df.head(20))\n\nprediction = dict()",
      "execution_count": null,
      "outputs": []
    },
    {
      "metadata": {
        "_cell_guid": "e0bdb2a7-b6ca-4854-9f87-852901970dd9",
        "_uuid": "d5fa8d42b4948492934b8404026bf0722d5fba93"
      },
      "cell_type": "markdown",
      "source": "## Applying Multinomial Naïve Bayes learning method"
    },
    {
      "metadata": {
        "_cell_guid": "207d1e09-c65e-4418-8847-8285ec12dcf2",
        "_uuid": "b490140e0f01d8e847b241b018679861a3c1c559",
        "trusted": false,
        "collapsed": true
      },
      "cell_type": "code",
      "source": "from sklearn.naive_bayes import MultinomialNB\nmodel = MultinomialNB().fit(X_train_tfidf, y_train)\nprediction['Multinomial'] = model.predict(X_test_tfidf)",
      "execution_count": null,
      "outputs": []
    },
    {
      "metadata": {
        "_cell_guid": "4de997cc-caa9-4c69-9aaf-861d4442b95a",
        "_uuid": "ec93ca05b224b1887f10807649726be3c4cd464f"
      },
      "cell_type": "markdown",
      "source": "## Applying Bernoulli Naïve Bayes learning method"
    },
    {
      "metadata": {
        "_cell_guid": "d7053935-3d47-4550-9959-b23c96a97fd0",
        "_uuid": "74304229ee064b6de47d890e1b6505db5ffcafd9",
        "trusted": false,
        "collapsed": true
      },
      "cell_type": "code",
      "source": "from sklearn.naive_bayes import BernoulliNB\nmodel = BernoulliNB().fit(X_train_tfidf, y_train)\nprediction['Bernoulli'] = model.predict(X_test_tfidf)",
      "execution_count": null,
      "outputs": []
    },
    {
      "metadata": {
        "_cell_guid": "fac80152-3534-4aa8-8f08-1660efc43d70",
        "_uuid": "b55d2dd1e7a1bea77d9d2f84edcb3d7f1d6cfafa"
      },
      "cell_type": "markdown",
      "source": "## Applying Logistic regression learning method"
    },
    {
      "metadata": {
        "_cell_guid": "9fdb1b53-f014-4f80-b25c-1925089e41ac",
        "_uuid": "a589bd4218cfd99c16c7866e32f9999f23f3ad2c",
        "trusted": false,
        "collapsed": true
      },
      "cell_type": "code",
      "source": "from sklearn import linear_model\nlogreg = linear_model.LogisticRegression(C=1e5)\nlogreg.fit(X_train_tfidf, y_train)\nprediction['Logistic'] = logreg.predict(X_test_tfidf)",
      "execution_count": null,
      "outputs": []
    },
    {
      "metadata": {
        "_cell_guid": "0bcd6dcc-8de6-40cd-adec-1174cd26b448",
        "_uuid": "4d773c219045a74a95e17721470b8f8e3b992273"
      },
      "cell_type": "markdown",
      "source": "## Results\n\nIn order to compare our learning algorithms, let's build the ROC curve. The curve with the highest AUC value will show our \"best\" algorithm.\n\nIn first data cleaning, stop-words removal has been used, but the results were much worse. Reason for this result could be that when people want to speak about what is or is not good, they use many small words like \"not\" for instance, and these words will typically be tagged as stop-words, and will be removed. This is why in the end, it was decided to keep the stop-words. For those who would like to try it by themselves, I have let the stop-words removal as a comment in the cleaning part of the analysis."
    },
    {
      "metadata": {
        "_cell_guid": "e66990a2-fcd5-492b-b8de-868eda620002",
        "_uuid": "b5d8969ab9ad4e93115f34c4ba441f4e1851f091",
        "trusted": false,
        "collapsed": true
      },
      "cell_type": "code",
      "source": "def formatt(x):\n    if x == 'negative':\n        return 0\n    return 1\nvfunc = np.vectorize(formatt)\n\ncmp = 0\ncolors = ['b', 'g', 'y', 'm', 'k']\nfor model, predicted in prediction.items():\n    false_positive_rate, true_positive_rate, thresholds = roc_curve(y_test.map(formatt), vfunc(predicted))\n    roc_auc = auc(false_positive_rate, true_positive_rate)\n    plt.plot(false_positive_rate, true_positive_rate, colors[cmp], label='%s: AUC %0.2f'% (model,roc_auc))\n    cmp += 1\n\nplt.title('Classifiers comparaison with ROC')\nplt.legend(loc='lower right')\nplt.plot([0,1],[0,1],'r--')\nplt.xlim([-0.1,1.2])\nplt.ylim([-0.1,1.2])\nplt.ylabel('True Positive Rate')\nplt.xlabel('False Positive Rate')\nplt.show()",
      "execution_count": null,
      "outputs": []
    },
    {
      "metadata": {
        "_cell_guid": "48aded5b-a024-4409-b92d-dc3106f4921b",
        "_uuid": "1dc08a6c7f540e8770114e26a6e74dd8f1957df9"
      },
      "cell_type": "markdown",
      "source": "After plotting the ROC curve, it would appear that the Logistic regression method provides us with the best results, although the AUC value for this method is not outstanding... \n\nLet's focus on logistic regression, and vizualise the accuracy, recall and confusion matrix of this model:"
    },
    {
      "metadata": {
        "_cell_guid": "8a49a4c0-bc0b-4d45-9197-8aa213dde718",
        "_uuid": "8c93a8159b6f663ac3c93a38c7b4fed4ff4b0b12",
        "trusted": false,
        "collapsed": true
      },
      "cell_type": "code",
      "source": "print(metrics.classification_report(y_test, prediction['Logistic'], target_names = [\"positive\", \"negative\"]))",
      "execution_count": null,
      "outputs": []
    },
    {
      "metadata": {
        "_cell_guid": "750d4f3e-c031-42c7-924a-6769b62901d4",
        "_uuid": "984455b091fd8eaa050186574c42ad29d4bba83f",
        "trusted": false,
        "collapsed": true
      },
      "cell_type": "code",
      "source": "def plot_confusion_matrix(cm, title='Confusion matrix', cmap=plt.cm.Blues):\n    plt.imshow(cm, interpolation='nearest', cmap=cmap)\n    plt.title(title)\n    plt.colorbar()\n    tick_marks = np.arange(len(set(Score)))\n    plt.xticks(tick_marks, set(Score), rotation=45)\n    plt.yticks(tick_marks, set(Score))\n    plt.tight_layout()\n    plt.ylabel('True label')\n    plt.xlabel('Predicted label')\n    \n# Compute confusion matrix\ncm = confusion_matrix(y_test, prediction['Logistic'])\nnp.set_printoptions(precision=2)\nplt.figure()\nplot_confusion_matrix(cm)    \n\ncm_normalized = cm.astype('float') / cm.sum(axis=1)[:, np.newaxis]\nplt.figure()\nplot_confusion_matrix(cm_normalized, title='Normalized confusion matrix')\n\nplt.show()",
      "execution_count": null,
      "outputs": []
    }
  ],
  "metadata": {
    "kernelspec": {
      "display_name": "Python 3",
      "language": "python",
      "name": "python3"
    },
    "language_info": {
      "pygments_lexer": "ipython3",
      "nbconvert_exporter": "python",
      "version": "3.6.0",
      "name": "python",
      "mimetype": "text/x-python",
      "file_extension": ".py",
      "codemirror_mode": {
        "version": 3,
        "name": "ipython"
      }
    },
    "_change_revision": 0,
    "_is_fork": false
  },
  "nbformat": 4,
  "nbformat_minor": 1
}